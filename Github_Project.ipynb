{
  "nbformat": 4,
  "nbformat_minor": 0,
  "metadata": {
    "colab": {
      "provenance": []
    },
    "kernelspec": {
      "name": "python3",
      "display_name": "Python 3"
    },
    "language_info": {
      "name": "python"
    }
  },
  "cells": [
    {
      "cell_type": "code",
      "execution_count": 1,
      "metadata": {
        "colab": {
          "base_uri": "https://localhost:8080/"
        },
        "id": "Sr0rNjlEUXiC",
        "outputId": "5f5b92a7-c2de-4965-f0a0-61ad198a8578"
      },
      "outputs": [
        {
          "output_type": "stream",
          "name": "stdout",
          "text": [
            "my github project\n"
          ]
        }
      ],
      "source": [
        "print (\"my github project\")"
      ]
    },
    {
      "cell_type": "code",
      "source": [
        "print (\"upload it to github\")"
      ],
      "metadata": {
        "colab": {
          "base_uri": "https://localhost:8080/"
        },
        "id": "Z_GlZ5B2Ubu4",
        "outputId": "658d3d1a-f6fc-47e8-fbdc-b943c3674397"
      },
      "execution_count": 2,
      "outputs": [
        {
          "output_type": "stream",
          "name": "stdout",
          "text": [
            "upload it to github\n"
          ]
        }
      ]
    },
    {
      "cell_type": "code",
      "source": [
        "print (\"2+2\")"
      ],
      "metadata": {
        "colab": {
          "base_uri": "https://localhost:8080/"
        },
        "id": "vAYzwLNNUgoH",
        "outputId": "ecef5f16-c9d4-4161-ba47-23dc518a0ead"
      },
      "execution_count": 3,
      "outputs": [
        {
          "output_type": "stream",
          "name": "stdout",
          "text": [
            "2+2\n"
          ]
        }
      ]
    },
    {
      "cell_type": "code",
      "source": [],
      "metadata": {
        "id": "dn8Vi3quUjNm"
      },
      "execution_count": null,
      "outputs": []
    }
  ]
}